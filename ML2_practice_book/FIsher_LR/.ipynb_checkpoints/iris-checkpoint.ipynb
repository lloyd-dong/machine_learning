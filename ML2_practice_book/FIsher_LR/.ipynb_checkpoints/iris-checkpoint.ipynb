{
 "cells": [
  {
   "cell_type": "code",
   "execution_count": 1,
   "metadata": {
    "collapsed": true
   },
   "outputs": [],
   "source": [
    "# coding=utf-8\n",
    "import numpy as np\n",
    "from sklearn.linear_model import LogisticRegressionCV\n",
    "import matplotlib.pyplot as plt\n",
    "\n",
    "def iris_type(s):\n",
    "    it={'Iris-setosa':0,'Iris-versicolor':1,'Iris-virginica':2}\n",
    "    return it[s]\n",
    "\n",
    "path='iris.data'\n",
    "data=np.loadtxt(path, dtype=float, delimiter=',', converters={4:iris_type})\n",
    "X,Y=np.split(data,(4,),axis=1)\n",
    "#print(type(y), y.shape)\n",
    "#(<type 'numpy.ndarray'>, (150L, 1L))"
   ]
  },
  {
   "cell_type": "code",
   "execution_count": 2,
   "metadata": {
    "collapsed": true
   },
   "outputs": [],
   "source": [
    "def train(x,y):\n",
    "    lr=LogisticRegressionCV()\n",
    "    lr.fit(x,y.ravel())\n",
    "    return lr"
   ]
  },
  {
   "cell_type": "code",
   "execution_count": null,
   "metadata": {
    "collapsed": false
   },
   "outputs": [],
   "source": [
    "def plot_lr(x,y,lr):\n",
    "    N,M=500,500        \n",
    "    x1_min,x1_max=x[:,0].min(),x[:,0].max()\n",
    "    x2_min,x2_max=x[:,1].min(),x[:,1].max()\n",
    "    t1=np.linspace(x1_min,x1_max,N)\n",
    "    t2=np.linspace(x2_min,x2_max,M)\n",
    "    x1,x2=np.meshgrid(t1,t2)\n",
    "    x_test=np.stack((x1.flat,x2.flat),axis=1)\n",
    "    y_hat=lr.predict(x_test)\n",
    "    y_hat = y_hat.reshape(x1.shape) # 250000 => 500*500\n",
    "    #plt.cm.ocean 就会映射到另一种不同的颜色\n",
    "    plt.pcolormesh(x1,x2, y_hat,cmap=plt.cm.prism)\n",
    "    plt.scatter(x[:,0],x[:,1],c=y,edgecolors='k',cmap=plt.cm.prism) \n",
    "    plt.xlabel('Sepal length')\n",
    "    plt.ylabel('Sepal width')\n",
    "    plt.xlim(x1_min,x1_max)\n",
    "    plt.ylim(x2_min,x2_max)\n",
    "    plt.grid()\n",
    "    plt.show()"
   ]
  },
  {
   "cell_type": "code",
   "execution_count": 3,
   "metadata": {
    "collapsed": false
   },
   "outputs": [],
   "source": [
    "def cal_accuracy(x,y,lr):\n",
    "    y_hat=lr.predict(x)  #shape 1-D \n",
    "    #print y.shape, '\\n', y[:10]\n",
    "    y0=y.reshape(-1) #(150L,1L)=>(150L,)\n",
    "    #print y.shape\n",
    "    result = y_hat==y0\n",
    "    #print result\n",
    "    c=np.count_nonzero(result)\n",
    "    #print c\n",
    "    print 'Accuracy: %.2f%%' % (100*float(c)/float(len(result)))"
   ]
  },
  {
   "cell_type": "code",
   "execution_count": null,
   "metadata": {
    "collapsed": false
   },
   "outputs": [],
   "source": [
    "# 为了可视化，仅使用前两列特征 \n",
    "x_2=X[:,:2]\n",
    "\n",
    "lr=train(x_2,Y)\n",
    "plot_lr(x_2,Y,lr)\n",
    "cal_accuracy(x_2,Y,lr)"
   ]
  },
  {
   "cell_type": "code",
   "execution_count": 4,
   "metadata": {
    "collapsed": false
   },
   "outputs": [
    {
     "name": "stdout",
     "output_type": "stream",
     "text": [
      "Accuracy: 96.67%\n"
     ]
    }
   ],
   "source": [
    "lr=train(X,Y)\n",
    "#plot_lr(X,Y,lr)\n",
    "cal_accuracy(X,Y,lr)"
   ]
  },
  {
   "cell_type": "code",
   "execution_count": 5,
   "metadata": {
    "collapsed": false
   },
   "outputs": [
    {
     "name": "stdout",
     "output_type": "stream",
     "text": [
      "(100L, 100L, 100L, 100L)\n"
     ]
    }
   ],
   "source": [
    "x=X\n",
    "y=Y\n",
    "N=100\n",
    "x1_min,x1_max=x[:,0].min(),x[:,0].max()\n",
    "x2_min,x2_max=x[:,1].min(),x[:,1].max()\n",
    "t1=np.linspace(x1_min,x1_max,N)\n",
    "t2=np.linspace(x2_min,x2_max,N)\n",
    "x1,x2,x3,x4=np.meshgrid(t1,t2,\n",
    "                  np.linspace(x[:,2].min(),x[:,2].max(),N),\n",
    "                  np.linspace(x[:,3].min(),x[:,3].max(),N))\n",
    "x_test=np.stack((x1.flat,x2.flat,x3.flat,x4.flat),axis=1)\n",
    "y_hat=lr.predict(x_test)\n",
    "print x1.shape\n",
    "y_hat = y_hat.reshape(x1.shape) # 250000 => 500*500"
   ]
  },
  {
   "cell_type": "code",
   "execution_count": null,
   "metadata": {
    "collapsed": false
   },
   "outputs": [],
   "source": [
    "#plt.cm.ocean 就会映射到另一种不同的颜色\n",
    "plt.pcolormesh(x1[:,:],x2[:,:], y_hat,cmap=plt.cm.prism)\n",
    "plt.scatter(x[:,0],x[:,1],c=y,edgecolors='k',cmap=plt.cm.prism) \n",
    "plt.xlabel('Sepal length')\n",
    "plt.ylabel('Sepal width')\n",
    "plt.xlim(x1_min,x1_max)\n",
    "plt.ylim(x2_min,x2_max)\n",
    "plt.grid()\n",
    "plt.show()"
   ]
  }
 ],
 "metadata": {
  "anaconda-cloud": {},
  "kernelspec": {
   "display_name": "Python [default]",
   "language": "python",
   "name": "python2"
  },
  "language_info": {
   "codemirror_mode": {
    "name": "ipython",
    "version": 2
   },
   "file_extension": ".py",
   "mimetype": "text/x-python",
   "name": "python",
   "nbconvert_exporter": "python",
   "pygments_lexer": "ipython2",
   "version": "2.7.12"
  }
 },
 "nbformat": 4,
 "nbformat_minor": 1
}
