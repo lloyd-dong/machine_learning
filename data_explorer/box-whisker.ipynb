{
 "cells": [
  {
   "cell_type": "code",
   "execution_count": 29,
   "metadata": {
    "collapsed": false
   },
   "outputs": [],
   "source": [
    "import numpy as np\n",
    "import pandas as pd\n",
    "import matplotlib.pyplot as plt\n",
    "%matplotlib inline\n",
    "import seaborn as sns\n",
    "from scipy import stats"
   ]
  },
  {
   "cell_type": "code",
   "execution_count": 16,
   "metadata": {
    "collapsed": false
   },
   "outputs": [
    {
     "data": {
      "text/plain": [
       "{'boxes': [<matplotlib.lines.Line2D at 0x10e670f50>],\n",
       " 'caps': [<matplotlib.lines.Line2D at 0x10e681e90>,\n",
       "  <matplotlib.lines.Line2D at 0x10e68b510>],\n",
       " 'fliers': [<matplotlib.lines.Line2D at 0x10e698810>],\n",
       " 'means': [<matplotlib.lines.Line2D at 0x10e6981d0>],\n",
       " 'medians': [<matplotlib.lines.Line2D at 0x10e68bb50>],\n",
       " 'whiskers': [<matplotlib.lines.Line2D at 0x10e681190>,\n",
       "  <matplotlib.lines.Line2D at 0x10e681850>]}"
      ]
     },
     "execution_count": 16,
     "metadata": {},
     "output_type": "execute_result"
    },
    {
     "data": {
      "image/png": "[encoded data removed]",
      "text/plain": [
       "<matplotlib.figure.Figure at 0x10e5ec3d0>"
      ]
     },
     "metadata": {},
     "output_type": "display_data"
    }
   ],
   "source": [
    "data = [2,3,40,44,45,50,55,60,66,73,80]\n",
    "plt.boxplot(data,notch=True,showmeans=True)"
   ]
  },
  {
   "cell_type": "code",
   "execution_count": 7,
   "metadata": {
    "collapsed": false
   },
   "outputs": [
    {
     "name": "stdout",
     "output_type": "stream",
     "text": [
      "Make a box and whisker plot.\n",
      "\n",
      "Call signature::\n",
      "\n",
      "  boxplot(self, x, notch=None, sym=None, vert=None, whis=None,\n",
      "          positions=None, widths=None, patch_artist=False,\n",
      "          bootstrap=None, usermedians=None, conf_intervals=None,\n",
      "          meanline=False, showmeans=False, showcaps=True,\n",
      "          showbox=True, showfliers=True, boxprops=None, labels=None,\n",
      "          flierprops=None, medianprops=None, meanprops=None,\n",
      "          capprops=None, whiskerprops=None, manage_xticks=True):\n",
      "\n",
      "Make a box and whisker plot for each column of *x* or each\n",
      "vector in sequence *x*.  The box extends from the lower to\n",
      "upper quartile values of the data, with a line at the median.\n",
      "The whiskers extend from the box to show the range of the\n",
      "data.  Flier points are those past the end of the whiskers.\n",
      "\n",
      "Parameters\n",
      "----------\n",
      "x : Array or a sequence of vectors.\n",
      "   The input data.\n",
      "\n",
      "notch : bool, default = False\n",
      "   If False, produces a rectangular box plot.\n",
      "   If True, will produce a notched box plot\n",
      "\n",
      "sym : str or None, default = None\n",
      "   The default symbol for flier points.\n",
      "   Enter an empty string ('') if you don't want to show fliers.\n",
      "   If `None`, then the fliers default to 'b+'  If you want more\n",
      "   control use the flierprops kwarg.\n",
      "\n",
      "vert : bool, default = True\n",
      "   If True (default), makes the boxes vertical.\n",
      "   If False, makes horizontal boxes.\n",
      "\n",
      "whis : float, sequence (default = 1.5) or string\n",
      "   As a float, determines the reach of the whiskers past the first\n",
      "   and third quartiles (e.g., Q3 + whis*IQR, IQR = interquartile\n",
      "   range, Q3-Q1). Beyond the whiskers, data are considered outliers\n",
      "   and are plotted as individual points. Set this to an unreasonably\n",
      "   high value to force the whiskers to show the min and max values.\n",
      "   Alternatively, set this to an ascending sequence of percentile\n",
      "   (e.g., [5, 95]) to set the whiskers at specific percentiles of\n",
      "   the data. Finally, *whis* can be the string 'range' to force the\n",
      "   whiskers to the min and max of the data. In the edge case that\n",
      "   the 25th and 75th percentiles are equivalent, *whis* will be\n",
      "   automatically set to 'range'.\n",
      "\n",
      "bootstrap : None (default) or integer\n",
      "   Specifies whether to bootstrap the confidence intervals\n",
      "   around the median for notched boxplots. If bootstrap==None,\n",
      "   no bootstrapping is performed, and notches are calculated\n",
      "   using a Gaussian-based asymptotic approximation  (see McGill, R.,\n",
      "   Tukey, J.W., and Larsen, W.A., 1978, and Kendall and Stuart,\n",
      "   1967). Otherwise, bootstrap specifies the number of times to\n",
      "   bootstrap the median to determine it's 95% confidence intervals.\n",
      "   Values between 1000 and 10000 are recommended.\n",
      "\n",
      "usermedians : array-like or None (default)\n",
      "   An array or sequence whose first dimension (or length) is\n",
      "   compatible with *x*. This overrides the medians computed by\n",
      "   matplotlib for each element of *usermedians* that is not None.\n",
      "   When an element of *usermedians* == None, the median will be\n",
      "   computed by matplotlib as normal.\n",
      "\n",
      "conf_intervals : array-like or None (default)\n",
      "   Array or sequence whose first dimension (or length) is compatible\n",
      "   with *x* and whose second dimension is 2. When the current element\n",
      "   of *conf_intervals* is not None, the notch locations computed by\n",
      "   matplotlib are overridden (assuming notch is True). When an\n",
      "   element of *conf_intervals* is None, boxplot compute notches the\n",
      "   method specified by the other kwargs (e.g., *bootstrap*).\n",
      "\n",
      "positions : array-like, default = [1, 2, ..., n]\n",
      "   Sets the positions of the boxes. The ticks and limits\n",
      "   are automatically set to match the positions.\n",
      "\n",
      "widths : array-like, default = 0.5\n",
      "   Either a scalar or a vector and sets the width of each box. The\n",
      "   default is 0.5, or ``0.15*(distance between extreme positions)``\n",
      "   if that is smaller.\n",
      "\n",
      "labels : sequence or None (default)\n",
      "   Labels for each dataset. Length must be compatible with\n",
      "   dimensions  of *x*\n",
      "\n",
      "patch_artist : bool, default = False\n",
      "   If False produces boxes with the Line2D artist\n",
      "   If True produces boxes with the Patch artist\n",
      "\n",
      "showmeans : bool, default = False\n",
      "   If True, will toggle one the rendering of the means\n",
      "\n",
      "showcaps : bool, default = True\n",
      "   If True, will toggle one the rendering of the caps\n",
      "\n",
      "showbox : bool, default = True\n",
      "   If True, will toggle one the rendering of box\n",
      "\n",
      "showfliers : bool, default = True\n",
      "   If True, will toggle one the rendering of the fliers\n",
      "\n",
      "boxprops : dict or None (default)\n",
      "   If provided, will set the plotting style of the boxes\n",
      "\n",
      "whiskerprops : dict or None (default)\n",
      "   If provided, will set the plotting style of the whiskers\n",
      "\n",
      "capprops : dict or None (default)\n",
      "   If provided, will set the plotting style of the caps\n",
      "\n",
      "flierprops : dict or None (default)\n",
      "   If provided, will set the plotting style of the fliers\n",
      "\n",
      "medianprops : dict or None (default)\n",
      "   If provided, will set the plotting style of the medians\n",
      "\n",
      "meanprops : dict or None (default)\n",
      "    If provided, will set the plotting style of the means\n",
      "\n",
      "meanline : bool, default = False\n",
      "    If True (and *showmeans* is True), will try to render the mean\n",
      "    as a line spanning the full width of the box according to\n",
      "    *meanprops*. Not recommended if *shownotches* is also True.\n",
      "    Otherwise, means will be shown as points.\n",
      "\n",
      "manage_xticks : bool, default = True\n",
      "    If the function should adjust the xlim and xtick locations.\n",
      "\n",
      "Returns\n",
      "-------\n",
      "\n",
      "result : dict\n",
      "    A dictionary mapping each component of the boxplot\n",
      "    to a list of the :class:`matplotlib.lines.Line2D`\n",
      "    instances created. That dictionary has the following keys\n",
      "    (assuming vertical boxplots):\n",
      "\n",
      "    - boxes: the main body of the boxplot showing the quartiles\n",
      "      and the median's confidence intervals if enabled.\n",
      "    - medians: horizonal lines at the median of each box.\n",
      "    - whiskers: the vertical lines extending to the most extreme,\n",
      "      n-outlier data points.\n",
      "    - caps: the horizontal lines at the ends of the whiskers.\n",
      "    - fliers: points representing data that extend beyond the\n",
      "      whiskers (outliers).\n",
      "    - means: points or lines representing the means.\n",
      "\n",
      "Examples\n",
      "--------\n",
      "\n",
      ".. plot:: mpl_examples/statistics/boxplot_demo.py\n",
      "\n",
      "Notes\n",
      "-----\n",
      "\n",
      "In addition to the above described arguments, this function can take a\n",
      "**data** keyword argument. If such a **data** argument is given, the\n",
      "following arguments are replaced by **data[<arg>]**:\n",
      "\n",
      "* All positional and all keyword arguments.\n",
      "\n",
      "\n",
      "\n",
      "\n",
      "Additional kwargs: hold = [True|False] overrides default hold state\n"
     ]
    }
   ],
   "source": [
    "print (plt.boxplot.func_doc)"
   ]
  },
  {
   "cell_type": "code",
   "execution_count": 20,
   "metadata": {
    "collapsed": false
   },
   "outputs": [
    {
     "data": {
      "text/plain": [
       "<matplotlib.axes._subplots.AxesSubplot at 0x10f76c7d0>"
      ]
     },
     "execution_count": 20,
     "metadata": {},
     "output_type": "execute_result"
    },
    {
     "data": {
      "image/png": "[encoded data removed]",
      "text/plain": [
       "<matplotlib.figure.Figure at 0x10f7fc690>"
      ]
     },
     "metadata": {},
     "output_type": "display_data"
    }
   ],
   "source": [
    "sns.boxplot(data,vert=True, width=0.2)"
   ]
  },
  {
   "cell_type": "code",
   "execution_count": 28,
   "metadata": {
    "collapsed": false
   },
   "outputs": [
    {
     "data": {
      "text/plain": [
       "<matplotlib.axes._subplots.AxesSubplot at 0x10fd79f90>"
      ]
     },
     "execution_count": 28,
     "metadata": {},
     "output_type": "execute_result"
    },
    {
     "data": {
      "image/png": "[encoded data removed]",
      "text/plain": [
       "<matplotlib.figure.Figure at 0x110033110>"
      ]
     },
     "metadata": {},
     "output_type": "display_data"
    }
   ],
   "source": [
    "sns.violinplot(data,orient='v',inner='quartile',width=0.5)"
   ]
  },
  {
   "cell_type": "code",
   "execution_count": null,
   "metadata": {
    "collapsed": true
   },
   "outputs": [],
   "source": []
  },
  {
   "cell_type": "code",
   "execution_count": 32,
   "metadata": {
    "collapsed": false
   },
   "outputs": [
    {
     "data": {
      "text/plain": [
       "<matplotlib.axes._subplots.AxesSubplot at 0x110530290>"
      ]
     },
     "execution_count": 32,
     "metadata": {},
     "output_type": "execute_result"
    },
    {
     "data": {
      "image/png": "[encoded data removed]",
      "text/plain": [
       "<matplotlib.figure.Figure at 0x110157e10>"
      ]
     },
     "metadata": {},
     "output_type": "display_data"
    }
   ],
   "source": [
    "d1 = stats.norm(0, 5).rvs(100)\n",
    "d2 = np.concatenate([stats.gamma(4).rvs(50), -1 * stats.gamma(4).rvs(50) ])\n",
    "data = pd.DataFrame(dict(d1=d1, d2=d2))\n",
    "\n",
    "sns.boxplot(data, width=0.5)"
   ]
  },
  {
   "cell_type": "code",
   "execution_count": 35,
   "metadata": {
    "collapsed": false
   },
   "outputs": [
    {
     "data": {
      "text/plain": [
       "<matplotlib.axes._subplots.AxesSubplot at 0x1106848d0>"
      ]
     },
     "execution_count": 35,
     "metadata": {},
     "output_type": "execute_result"
    },
    {
     "data": {
      "image/png": "[encoded data removed]",
      "text/plain": [
       "<matplotlib.figure.Figure at 0x10d6d9f10>"
      ]
     },
     "metadata": {},
     "output_type": "display_data"
    }
   ],
   "source": [
    "sns.violinplot(data, inner='quartile', width=0.5)"
   ]
  },
  {
   "cell_type": "code",
   "execution_count": 41,
   "metadata": {
    "collapsed": false
   },
   "outputs": [
    {
     "data": {
      "text/plain": [
       "(array([  3.,   3.,   5.,  24.,  18.,  20.,  11.,  10.,   4.,   2.]),\n",
       " array([-10.66574486,  -8.40826928,  -6.1507937 ,  -3.89331811,\n",
       "         -1.63584253,   0.62163305,   2.87910863,   5.13658421,\n",
       "          7.39405979,   9.65153537,  11.90901095]),\n",
       " <a list of 10 Patch objects>)"
      ]
     },
     "execution_count": 41,
     "metadata": {},
     "output_type": "execute_result"
    },
    {
     "data": {
      "image/png": "[encoded data removed]",
      "text/plain": [
       "<matplotlib.figure.Figure at 0x110f14a10>"
      ]
     },
     "metadata": {},
     "output_type": "display_data"
    }
   ],
   "source": [
    "plt.hist(d1)"
   ]
  },
  {
   "cell_type": "code",
   "execution_count": 42,
   "metadata": {
    "collapsed": false
   },
   "outputs": [
    {
     "data": {
      "text/plain": [
       "(array([  4.,   4.,  15.,  18.,   9.,   6.,  26.,  10.,   4.,   4.]),\n",
       " array([-9.72841428, -7.79109006, -5.85376584, -3.91644162, -1.9791174 ,\n",
       "        -0.04179317,  1.89553105,  3.83285527,  5.77017949,  7.70750372,\n",
       "         9.64482794]),\n",
       " <a list of 10 Patch objects>)"
      ]
     },
     "execution_count": 42,
     "metadata": {},
     "output_type": "execute_result"
    },
    {
     "data": {
      "image/png": "[encoded data removed]",
      "text/plain": [
       "<matplotlib.figure.Figure at 0x111238650>"
      ]
     },
     "metadata": {},
     "output_type": "display_data"
    }
   ],
   "source": [
    "plt.hist(d2)"
   ]
  }
 ],
 "metadata": {
  "kernelspec": {
   "display_name": "Python 2",
   "language": "python",
   "name": "python2"
  },
  "language_info": {
   "codemirror_mode": {
    "name": "ipython",
    "version": 2
   },
   "file_extension": ".py",
   "mimetype": "text/x-python",
   "name": "python",
   "nbconvert_exporter": "python",
   "pygments_lexer": "ipython2",
   "version": "2.7.11"
  }
 },
 "nbformat": 4,
 "nbformat_minor": 0
}
