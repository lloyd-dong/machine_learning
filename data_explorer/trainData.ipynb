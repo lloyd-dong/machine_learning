{
 "cells": [
  {
   "cell_type": "code",
   "execution_count": 1,
   "metadata": {
    "collapsed": true
   },
   "outputs": [],
   "source": [
    "import pandas as pd"
   ]
  },
  {
   "cell_type": "markdown",
   "metadata": {},
   "source": [
    "# Validate data, no dup, with dev_id, with post_id, with date, with praise"
   ]
  },
  {
   "cell_type": "code",
   "execution_count": 30,
   "metadata": {
    "collapsed": false
   },
   "outputs": [
    {
     "data": {
      "text/html": [
       "<div style=\"max-height:1000px;max-width:1500px;overflow:auto;\">\n",
       "<table border=\"1\" class=\"dataframe\">\n",
       "  <thead>\n",
       "    <tr style=\"text-align: right;\">\n",
       "      <th></th>\n",
       "      <th>dev_id</th>\n",
       "      <th>p_id</th>\n",
       "      <th>praise</th>\n",
       "      <th>datetime</th>\n",
       "    </tr>\n",
       "  </thead>\n",
       "  <tbody>\n",
       "    <tr>\n",
       "      <th>0</th>\n",
       "      <td> 8437c6fd866b5426f995569f13dca754</td>\n",
       "      <td> 517255</td>\n",
       "      <td> 1</td>\n",
       "      <td> 20151108062757</td>\n",
       "    </tr>\n",
       "    <tr>\n",
       "      <th>1</th>\n",
       "      <td> 8437c6fd866b5426f995569f13dca754</td>\n",
       "      <td> 532326</td>\n",
       "      <td> 1</td>\n",
       "      <td> 20151116065912</td>\n",
       "    </tr>\n",
       "    <tr>\n",
       "      <th>2</th>\n",
       "      <td> 8437c6fd866b5426f995569f13dca754</td>\n",
       "      <td> 532350</td>\n",
       "      <td> 1</td>\n",
       "      <td> 20151116065831</td>\n",
       "    </tr>\n",
       "    <tr>\n",
       "      <th>3</th>\n",
       "      <td> 8437c6fd866b5426f995569f13dca754</td>\n",
       "      <td> 532354</td>\n",
       "      <td> 1</td>\n",
       "      <td> 20151116065753</td>\n",
       "    </tr>\n",
       "    <tr>\n",
       "      <th>4</th>\n",
       "      <td> 8437c6fd866b5426f995569f13dca754</td>\n",
       "      <td> 532356</td>\n",
       "      <td> 1</td>\n",
       "      <td> 20151116065734</td>\n",
       "    </tr>\n",
       "  </tbody>\n",
       "</table>\n",
       "</div>"
      ],
      "text/plain": [
       "                             dev_id    p_id  praise        datetime\n",
       "0  8437c6fd866b5426f995569f13dca754  517255       1  20151108062757\n",
       "1  8437c6fd866b5426f995569f13dca754  532326       1  20151116065912\n",
       "2  8437c6fd866b5426f995569f13dca754  532350       1  20151116065831\n",
       "3  8437c6fd866b5426f995569f13dca754  532354       1  20151116065753\n",
       "4  8437c6fd866b5426f995569f13dca754  532356       1  20151116065734"
      ]
     },
     "execution_count": 30,
     "metadata": {},
     "output_type": "execute_result"
    }
   ],
   "source": [
    "train_data = pd.read_csv(\"/Users/bodong/Downloads/contest_data/train.txt\", sep=\"\\t\",header=None,names=[\"dev_id\",\"p_id\",\"praise\",\"datetime\"])\n",
    "train_data.head()"
   ]
  },
  {
   "cell_type": "code",
   "execution_count": 47,
   "metadata": {
    "collapsed": false
   },
   "outputs": [],
   "source": [
    "#print \"null dev_id record: \",train_data.iloc[5873]\n",
    "#train_data[train_data[\"dev_id\"].isnull()].count() #791 lines have no d_id\n",
    "#t1[t1.p_id.isnull()].count() #0\n",
    "#t1[t1.praise.isnull()].count() #0\n",
    "#t1[t1.datetime.isnull()].count() #0\n",
    "\n",
    "train_data=train_data[train_data.dev_id.notnull()]\n",
    "#474564 -> 473773 "
   ]
  },
  {
   "cell_type": "code",
   "execution_count": 46,
   "metadata": {
    "collapsed": false
   },
   "outputs": [
    {
     "data": {
      "text/plain": [
       "dev_id      0\n",
       "p_id        0\n",
       "praise      0\n",
       "datetime    0\n",
       "dtype: int64"
      ]
     },
     "execution_count": 46,
     "metadata": {},
     "output_type": "execute_result"
    }
   ],
   "source": [
    "train_data.unique"
   ]
  },
  {
   "cell_type": "markdown",
   "metadata": {},
   "source": [
    "# Remove datetime"
   ]
  },
  {
   "cell_type": "code",
   "execution_count": null,
   "metadata": {
    "collapsed": true
   },
   "outputs": [],
   "source": []
  },
  {
   "cell_type": "markdown",
   "metadata": {},
   "source": [
    "# Get ratio,  count(praise) / total number by dev_id, post_id"
   ]
  },
  {
   "cell_type": "markdown",
   "metadata": {},
   "source": [
    "# Get raitio, people give different actions on a same post"
   ]
  },
  {
   "cell_type": "code",
   "execution_count": null,
   "metadata": {
    "collapsed": true
   },
   "outputs": [],
   "source": [
    "count(*) from t \n",
    "group by dev_id, post_id\n",
    "having max(praise) - min(praise) > 0"
   ]
  },
  {
   "cell_type": "markdown",
   "metadata": {},
   "source": []
  },
  {
   "cell_type": "markdown",
   "metadata": {},
   "source": [
    "# Split 1-24, 25-27"
   ]
  }
 ],
 "metadata": {
  "kernelspec": {
   "display_name": "Python 2",
   "language": "python",
   "name": "python2"
  },
  "language_info": {
   "codemirror_mode": {
    "name": "ipython",
    "version": 2
   },
   "file_extension": ".py",
   "mimetype": "text/x-python",
   "name": "python",
   "nbconvert_exporter": "python",
   "pygments_lexer": "ipython2",
   "version": "2.7.9"
  }
 },
 "nbformat": 4,
 "nbformat_minor": 0
}
