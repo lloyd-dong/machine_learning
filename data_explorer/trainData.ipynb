{
 "cells": [
  {
   "cell_type": "code",
   "execution_count": 1,
   "metadata": {
    "collapsed": true
   },
   "outputs": [],
   "source": [
    "import pandas as pd"
   ]
  },
  {
   "cell_type": "markdown",
   "metadata": {},
   "source": [
    "# Validate data, no dup, with dev_id, with post_id, with date, with praise"
   ]
  },
  {
   "cell_type": "code",
   "execution_count": 2,
   "metadata": {
    "collapsed": false
   },
   "outputs": [
    {
     "data": {
      "text/html": [
       "<div style=\"max-height:1000px;max-width:1500px;overflow:auto;\">\n",
       "<table border=\"1\" class=\"dataframe\">\n",
       "  <thead>\n",
       "    <tr style=\"text-align: right;\">\n",
       "      <th></th>\n",
       "      <th>dev_id</th>\n",
       "      <th>p_id</th>\n",
       "      <th>praise</th>\n",
       "      <th>datetime</th>\n",
       "    </tr>\n",
       "  </thead>\n",
       "  <tbody>\n",
       "    <tr>\n",
       "      <th>0</th>\n",
       "      <td> 8437c6fd866b5426f995569f13dca754</td>\n",
       "      <td> 517255</td>\n",
       "      <td> 1</td>\n",
       "      <td> 20151108062757</td>\n",
       "    </tr>\n",
       "    <tr>\n",
       "      <th>1</th>\n",
       "      <td> 8437c6fd866b5426f995569f13dca754</td>\n",
       "      <td> 532326</td>\n",
       "      <td> 1</td>\n",
       "      <td> 20151116065912</td>\n",
       "    </tr>\n",
       "    <tr>\n",
       "      <th>2</th>\n",
       "      <td> 8437c6fd866b5426f995569f13dca754</td>\n",
       "      <td> 532350</td>\n",
       "      <td> 1</td>\n",
       "      <td> 20151116065831</td>\n",
       "    </tr>\n",
       "    <tr>\n",
       "      <th>3</th>\n",
       "      <td> 8437c6fd866b5426f995569f13dca754</td>\n",
       "      <td> 532354</td>\n",
       "      <td> 1</td>\n",
       "      <td> 20151116065753</td>\n",
       "    </tr>\n",
       "    <tr>\n",
       "      <th>4</th>\n",
       "      <td> 8437c6fd866b5426f995569f13dca754</td>\n",
       "      <td> 532356</td>\n",
       "      <td> 1</td>\n",
       "      <td> 20151116065734</td>\n",
       "    </tr>\n",
       "  </tbody>\n",
       "</table>\n",
       "</div>"
      ],
      "text/plain": [
       "                             dev_id    p_id  praise        datetime\n",
       "0  8437c6fd866b5426f995569f13dca754  517255       1  20151108062757\n",
       "1  8437c6fd866b5426f995569f13dca754  532326       1  20151116065912\n",
       "2  8437c6fd866b5426f995569f13dca754  532350       1  20151116065831\n",
       "3  8437c6fd866b5426f995569f13dca754  532354       1  20151116065753\n",
       "4  8437c6fd866b5426f995569f13dca754  532356       1  20151116065734"
      ]
     },
     "execution_count": 2,
     "metadata": {},
     "output_type": "execute_result"
    }
   ],
   "source": [
    "train_data = pd.read_csv(\"/Users/bodong/Downloads/contest_data/train.txt\", sep=\"\\t\",header=None,names=[\"dev_id\",\"p_id\",\"praise\",\"datetime\"])\n",
    "train_data.head()"
   ]
  },
  {
   "cell_type": "code",
   "execution_count": 4,
   "metadata": {
    "collapsed": false
   },
   "outputs": [],
   "source": [
    "#print \"null dev_id record: \",train_data.iloc[5873]\n",
    "#train_data[train_data[\"dev_id\"].isnull()].count() #791 lines have no d_id\n",
    "#t1[t1.p_id.isnull()].count() #0\n",
    "#t1[t1.praise.isnull()].count() #0\n",
    "#t1[t1.datetime.isnull()].count() #0\n",
    "\n",
    "train_data=train_data[train_data.dev_id.notnull()]\n",
    "#474564 -> 473773 \n",
    "#train_data.drop_duplicates().count() #still 473773, no duplicates\n"
   ]
  },
  {
   "cell_type": "markdown",
   "metadata": {},
   "source": [
    "# Remove datetime"
   ]
  },
  {
   "cell_type": "code",
   "execution_count": 5,
   "metadata": {
    "collapsed": true
   },
   "outputs": [],
   "source": [
    "del train_data['datetime']"
   ]
  },
  {
   "cell_type": "markdown",
   "metadata": {},
   "source": [
    "# Get ratio,  count(praise) / total number by dev_id, post_id"
   ]
  },
  {
   "cell_type": "code",
   "execution_count": 26,
   "metadata": {
    "collapsed": false,
    "scrolled": false
   },
   "outputs": [
    {
     "name": "stdout",
     "output_type": "stream",
     "text": [
      "('173d09cfdd5a37ce951d44b5e8363177', 512406) 4\n",
      "('173d09cfdd5a37ce951d44b5e8363177', 520308) 4\n",
      "('173d09cfdd5a37ce951d44b5e8363177', 520319) 4\n",
      "('173d09cfdd5a37ce951d44b5e8363177', 521702) 4\n",
      "('173d09cfdd5a37ce951d44b5e8363177', 521739) 4\n",
      "('173d09cfdd5a37ce951d44b5e8363177', 524346) 4\n",
      "('173d09cfdd5a37ce951d44b5e8363177', 524390) 4\n",
      "('173d09cfdd5a37ce951d44b5e8363177', 525488) 4\n",
      "('173d09cfdd5a37ce951d44b5e8363177', 527435) 4\n",
      "('173d09cfdd5a37ce951d44b5e8363177', 528096) 4\n",
      "('173d09cfdd5a37ce951d44b5e8363177', 528104) 4\n",
      "('173d09cfdd5a37ce951d44b5e8363177', 528128) 4\n",
      "('173d09cfdd5a37ce951d44b5e8363177', 528135) 4\n",
      "('173d09cfdd5a37ce951d44b5e8363177', 528140) 4\n",
      "('173d09cfdd5a37ce951d44b5e8363177', 528151) 4\n",
      "('173d09cfdd5a37ce951d44b5e8363177', 528155) 4\n",
      "('173d09cfdd5a37ce951d44b5e8363177', 528169) 4\n",
      "('173d09cfdd5a37ce951d44b5e8363177', 528180) 4\n",
      "('173d09cfdd5a37ce951d44b5e8363177', 529172) 4\n",
      "('173d09cfdd5a37ce951d44b5e8363177', 529173) 4\n",
      "('173d09cfdd5a37ce951d44b5e8363177', 529176) 4\n",
      "('173d09cfdd5a37ce951d44b5e8363177', 529177) 4\n",
      "('173d09cfdd5a37ce951d44b5e8363177', 529182) 4\n",
      "('173d09cfdd5a37ce951d44b5e8363177', 529404) 4\n",
      "('173d09cfdd5a37ce951d44b5e8363177', 529461) 4\n",
      "('173d09cfdd5a37ce951d44b5e8363177', 529673) 4\n",
      "('173d09cfdd5a37ce951d44b5e8363177', 530496) 4\n",
      "('173d09cfdd5a37ce951d44b5e8363177', 530524) 4\n",
      "('173d09cfdd5a37ce951d44b5e8363177', 530539) 4\n",
      "('173d09cfdd5a37ce951d44b5e8363177', 531301) 4\n",
      "('173d09cfdd5a37ce951d44b5e8363177', 531431) 4\n",
      "('173d09cfdd5a37ce951d44b5e8363177', 531446) 4\n",
      "('173d09cfdd5a37ce951d44b5e8363177', 531721) 4\n",
      "('173d09cfdd5a37ce951d44b5e8363177', 531728) 4\n",
      "('173d09cfdd5a37ce951d44b5e8363177', 531740) 4\n",
      "('173d09cfdd5a37ce951d44b5e8363177', 533518) 4\n",
      "('173d09cfdd5a37ce951d44b5e8363177', 533521) 4\n",
      "('173d09cfdd5a37ce951d44b5e8363177', 533702) 4\n",
      "('173d09cfdd5a37ce951d44b5e8363177', 534453) 4\n",
      "('173d09cfdd5a37ce951d44b5e8363177', 536931) 4\n",
      "('173d09cfdd5a37ce951d44b5e8363177', 538341) 4\n",
      "('173d09cfdd5a37ce951d44b5e8363177', 543223) 4\n",
      "('173d09cfdd5a37ce951d44b5e8363177', 545613) 4\n",
      "('173d09cfdd5a37ce951d44b5e8363177', 546016) 4\n",
      "('173d09cfdd5a37ce951d44b5e8363177', 548342) 4\n",
      "('173d09cfdd5a37ce951d44b5e8363177', 557152) 4\n",
      "('173d09cfdd5a37ce951d44b5e8363177', 560380) 4\n",
      "('173d09cfdd5a37ce951d44b5e8363177', 563223) 4\n"
     ]
    }
   ],
   "source": [
    "t=train_data['praise'].groupby([train_data['dev_id'],train_data['p_id']]).count()\n",
    "t[t>1].count() #293, some 2, 3 and 4\n",
    "# same person, same post, praised 2, 3 and 4 times in different time\n",
    "def show_multi_actions_per_dev_post(t):\n",
    "    for (k,v) in t.iteritems():\n",
    "        if v>1:\n",
    "            print k,v"
   ]
  },
  {
   "cell_type": "markdown",
   "metadata": {},
   "source": [
    "# Get raitio, people give different actions on a same post\n",
    "the following shows no person did different praise on same post"
   ]
  },
  {
   "cell_type": "code",
   "execution_count": 55,
   "metadata": {
    "collapsed": false
   },
   "outputs": [
    {
     "name": "stdout",
     "output_type": "stream",
     "text": [
      "over\n"
     ]
    }
   ],
   "source": [
    "t=train_data['praise'].groupby([train_data['dev_id'],train_data['p_id']])\n",
    "\n",
    "for name,group in t:\n",
    "    #l=len(group) #group is series, len() is actually the group size \n",
    "    #if l != group.size:\n",
    "    #    print l, group.size\n",
    "    if gropu.size>2:\n",
    "        gap=max(group.values)-min(group.values)        \n",
    "        if gap >0:\n",
    "            print \"name : \",name, \"\\ngroup: \", group.values,'\\n gap: ', gap\n",
    "print \"over\""
   ]
  },
  {
   "cell_type": "markdown",
   "metadata": {},
   "source": [
    "## the following output is wrong against the real data"
   ]
  },
  {
   "cell_type": "code",
   "execution_count": 56,
   "metadata": {
    "collapsed": false
   },
   "outputs": [
    {
     "name": "stdout",
     "output_type": "stream",
     "text": [
      "('0000004d0ee26ac7a0ee94218f27be0d', 504438) [2 1] 2\n",
      "('0000004d0ee26ac7a0ee94218f27be0d', 504438) [1 2] 2\n",
      "('0000004d0ee26ac7a0ee94218f27be0d', 504438) [1 2] 2\n",
      "('0000004d0ee26ac7a0ee94218f27be0d', 504438) [2 1] 2\n",
      "('0000004d0ee26ac7a0ee94218f27be0d', 504438) [1 2] 2\n",
      "over\n"
     ]
    }
   ],
   "source": [
    "for name,group in t:\n",
    "    gap= max(group.values) - min(group.values)\n",
    "    if gap >0:\n",
    "        print k, group.values, group.size\n",
    "print \"over\""
   ]
  },
  {
   "cell_type": "markdown",
   "metadata": {},
   "source": [
    "# Split 1-24, 25-27"
   ]
  },
  {
   "cell_type": "code",
   "execution_count": 59,
   "metadata": {
    "collapsed": false
   },
   "outputs": [],
   "source": [
    "train = pd.read_csv(\"/Users/bodong/Downloads/contest_data/train.txt\", sep=\"\\t\",header=None,names=[\"dev_id\",\"p_id\",\"praise\",\"datetime\"])\n",
    "train=train[train.dev_id.notnull()]\n",
    "t_1_24=train[train.datetime.apply(str)<'20151125']\n",
    "del t_1_24['datetime']\n",
    "t_1_24.drop_duplicates().to_csv(\"/Users/bodong/Downloads/contest_data/train_1_24.txt\",sep=\"\\t\", header =None, index=None)"
   ]
  },
  {
   "cell_type": "code",
   "execution_count": 60,
   "metadata": {
    "collapsed": false
   },
   "outputs": [],
   "source": [
    "t_25_27=train[train.datetime.apply(str)>'20151125000000']\n",
    "del t_25_27['datetime']\n",
    "t_25_27.drop_duplicates().to_csv(\"/Users/bodong/Downloads/contest_data/train_25_27.txt\",sep=\"\\t\", header =None, index=None)"
   ]
  }
 ],
 "metadata": {
  "kernelspec": {
   "display_name": "Python 2",
   "language": "python",
   "name": "python2"
  },
  "language_info": {
   "codemirror_mode": {
    "name": "ipython",
    "version": 2
   },
   "file_extension": ".py",
   "mimetype": "text/x-python",
   "name": "python",
   "nbconvert_exporter": "python",
   "pygments_lexer": "ipython2",
   "version": "2.7.9"
  }
 },
 "nbformat": 4,
 "nbformat_minor": 0
}
