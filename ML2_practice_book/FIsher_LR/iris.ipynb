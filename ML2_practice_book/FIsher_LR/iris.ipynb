{
 "cells": [
  {
   "cell_type": "code",
   "execution_count": 1,
   "metadata": {
    "collapsed": true
   },
   "outputs": [],
   "source": [
    "# coding=utf-8\n",
    "import numpy as np\n",
    "from sklearn.linear_model import LogisticRegressionCV\n",
    "import matplotlib.pyplot as plt\n",
    "\n",
    "def iris_type(s):\n",
    "    it={'Iris-setosa':0,'Iris-versicolor':1,'Iris-virginica':2}\n",
    "    return it[s]\n",
    "\n",
    "path='iris.data'\n",
    "data=np.loadtxt(path, dtype=float, delimiter=',', converters={4:iris_type})\n",
    "X,Y=np.split(data,(4,),axis=1)\n",
    "#print(type(y), y.shape)\n",
    "#(<type 'numpy.ndarray'>, (150L, 1L))"
   ]
  },
  {
   "cell_type": "code",
   "execution_count": 2,
   "metadata": {
    "collapsed": true
   },
   "outputs": [],
   "source": [
    "def train(x,y):\n",
    "    lr=LogisticRegressionCV()\n",
    "    lr.fit(x,y.ravel())\n",
    "    return lr"
   ]
  },
  {
   "cell_type": "code",
   "execution_count": null,
   "metadata": {
    "collapsed": false
   },
   "outputs": [],
   "source": [
    "def plot_lr(x,y,lr):\n",
    "    N,M=500,500        \n",
    "    x1_min,x1_max=x[:,0].min(),x[:,0].max()\n",
    "    x2_min,x2_max=x[:,1].min(),x[:,1].max()\n",
    "    t1=np.linspace(x1_min,x1_max,N)\n",
    "    t2=np.linspace(x2_min,x2_max,M)\n",
    "    x1,x2=np.meshgrid(t1,t2)\n",
    "    x_test=np.stack((x1.flat,x2.flat),axis=1)\n",
    "    y_hat=lr.predict(x_test)\n",
    "    y_hat = y_hat.reshape(x1.shape) # 250000 => 500*500\n",
    "    #plt.cm.ocean 就会映射到另一种不同的颜色\n",
    "    plt.pcolormesh(x1,x2, y_hat,cmap=plt.cm.prism)\n",
    "    plt.scatter(x[:,0],x[:,1],c=y,edgecolors='k',cmap=plt.cm.prism) \n",
    "    plt.xlabel('Sepal length')\n",
    "    plt.ylabel('Sepal width')\n",
    "    plt.xlim(x1_min,x1_max)\n",
    "    plt.ylim(x2_min,x2_max)\n",
    "    plt.grid()\n",
    "    plt.show()"
   ]
  },
  {
   "cell_type": "code",
   "execution_count": 3,
   "metadata": {
    "collapsed": false
   },
   "outputs": [],
   "source": [
    "def cal_accuracy(x,y,lr):\n",
    "    y_hat=lr.predict(x)  #shape 1-D \n",
    "    #print y.shape, '\\n', y[:10]\n",
    "    y0=y.reshape(-1) #(150L,1L)=>(150L,)\n",
    "    #print y.shape\n",
    "    result = y_hat==y0\n",
    "    #print result\n",
    "    c=np.count_nonzero(result)\n",
    "    #print c\n",
    "    print 'Accuracy: %.2f%%' % (100*float(c)/float(len(result)))"
   ]
  },
  {
   "cell_type": "code",
   "execution_count": null,
   "metadata": {
    "collapsed": false
   },
   "outputs": [],
   "source": [
    "# 为了可视化，仅使用前两列特征 \n",
    "x_2=X[:,:2]\n",
    "\n",
    "lr=train(x_2,Y)\n",
    "plot_lr(x_2,Y,lr)\n",
    "cal_accuracy(x_2,Y,lr)"
   ]
  },
  {
   "cell_type": "code",
   "execution_count": 4,
   "metadata": {
    "collapsed": false
   },
   "outputs": [
    {
     "name": "stdout",
     "output_type": "stream",
     "text": [
      "Accuracy: 96.67%\n"
     ]
    }
   ],
   "source": [
    "lr=train(X,Y)\n",
    "#plot_lr(X,Y,lr)\n",
    "cal_accuracy(X,Y,lr)"
   ]
  },
  {
   "cell_type": "code",
   "execution_count": 5,
   "metadata": {
    "collapsed": false
   },
   "outputs": [
    {
     "name": "stdout",
     "output_type": "stream",
     "text": [
      "(100L, 100L, 100L, 100L)\n"
     ]
    }
   ],
   "source": [
    "x=X\n",
    "y=Y\n",
    "N=100\n",
    "x1_min,x1_max=x[:,0].min(),x[:,0].max()\n",
    "x2_min,x2_max=x[:,1].min(),x[:,1].max()\n",
    "t1=np.linspace(x1_min,x1_max,N)\n",
    "t2=np.linspace(x2_min,x2_max,N)\n",
    "x1,x2,x3,x4=np.meshgrid(t1,t2,\n",
    "                  np.linspace(x[:,2].min(),x[:,2].max(),N),\n",
    "                  np.linspace(x[:,3].min(),x[:,3].max(),N))\n",
    "x_test=np.stack((x1.flat,x2.flat,x3.flat,x4.flat),axis=1)\n",
    "y_hat=lr.predict(x_test)\n",
    "print x1.shape\n",
    "y_hat = y_hat.reshape(x1.shape) # 250000 => 500*500"
   ]
  },
  {
   "cell_type": "code",
   "execution_count": 12,
   "metadata": {
    "collapsed": false
   },
   "outputs": [
    {
     "data": {
      "text/plain": [
       "array([[[ 4.3       ,  4.3       ,  4.3       , ...,  4.3       ,\n",
       "          4.3       ,  4.3       ],\n",
       "        [ 4.3       ,  4.3       ,  4.3       , ...,  4.3       ,\n",
       "          4.3       ,  4.3       ],\n",
       "        [ 4.3       ,  4.3       ,  4.3       , ...,  4.3       ,\n",
       "          4.3       ,  4.3       ],\n",
       "        ..., \n",
       "        [ 4.3       ,  4.3       ,  4.3       , ...,  4.3       ,\n",
       "          4.3       ,  4.3       ],\n",
       "        [ 4.3       ,  4.3       ,  4.3       , ...,  4.3       ,\n",
       "          4.3       ,  4.3       ],\n",
       "        [ 4.3       ,  4.3       ,  4.3       , ...,  4.3       ,\n",
       "          4.3       ,  4.3       ]],\n",
       "\n",
       "       [[ 4.33636364,  4.33636364,  4.33636364, ...,  4.33636364,\n",
       "          4.33636364,  4.33636364],\n",
       "        [ 4.33636364,  4.33636364,  4.33636364, ...,  4.33636364,\n",
       "          4.33636364,  4.33636364],\n",
       "        [ 4.33636364,  4.33636364,  4.33636364, ...,  4.33636364,\n",
       "          4.33636364,  4.33636364],\n",
       "        ..., \n",
       "        [ 4.33636364,  4.33636364,  4.33636364, ...,  4.33636364,\n",
       "          4.33636364,  4.33636364],\n",
       "        [ 4.33636364,  4.33636364,  4.33636364, ...,  4.33636364,\n",
       "          4.33636364,  4.33636364],\n",
       "        [ 4.33636364,  4.33636364,  4.33636364, ...,  4.33636364,\n",
       "          4.33636364,  4.33636364]],\n",
       "\n",
       "       [[ 4.37272727,  4.37272727,  4.37272727, ...,  4.37272727,\n",
       "          4.37272727,  4.37272727],\n",
       "        [ 4.37272727,  4.37272727,  4.37272727, ...,  4.37272727,\n",
       "          4.37272727,  4.37272727],\n",
       "        [ 4.37272727,  4.37272727,  4.37272727, ...,  4.37272727,\n",
       "          4.37272727,  4.37272727],\n",
       "        ..., \n",
       "        [ 4.37272727,  4.37272727,  4.37272727, ...,  4.37272727,\n",
       "          4.37272727,  4.37272727],\n",
       "        [ 4.37272727,  4.37272727,  4.37272727, ...,  4.37272727,\n",
       "          4.37272727,  4.37272727],\n",
       "        [ 4.37272727,  4.37272727,  4.37272727, ...,  4.37272727,\n",
       "          4.37272727,  4.37272727]],\n",
       "\n",
       "       ..., \n",
       "       [[ 7.82727273,  7.82727273,  7.82727273, ...,  7.82727273,\n",
       "          7.82727273,  7.82727273],\n",
       "        [ 7.82727273,  7.82727273,  7.82727273, ...,  7.82727273,\n",
       "          7.82727273,  7.82727273],\n",
       "        [ 7.82727273,  7.82727273,  7.82727273, ...,  7.82727273,\n",
       "          7.82727273,  7.82727273],\n",
       "        ..., \n",
       "        [ 7.82727273,  7.82727273,  7.82727273, ...,  7.82727273,\n",
       "          7.82727273,  7.82727273],\n",
       "        [ 7.82727273,  7.82727273,  7.82727273, ...,  7.82727273,\n",
       "          7.82727273,  7.82727273],\n",
       "        [ 7.82727273,  7.82727273,  7.82727273, ...,  7.82727273,\n",
       "          7.82727273,  7.82727273]],\n",
       "\n",
       "       [[ 7.86363636,  7.86363636,  7.86363636, ...,  7.86363636,\n",
       "          7.86363636,  7.86363636],\n",
       "        [ 7.86363636,  7.86363636,  7.86363636, ...,  7.86363636,\n",
       "          7.86363636,  7.86363636],\n",
       "        [ 7.86363636,  7.86363636,  7.86363636, ...,  7.86363636,\n",
       "          7.86363636,  7.86363636],\n",
       "        ..., \n",
       "        [ 7.86363636,  7.86363636,  7.86363636, ...,  7.86363636,\n",
       "          7.86363636,  7.86363636],\n",
       "        [ 7.86363636,  7.86363636,  7.86363636, ...,  7.86363636,\n",
       "          7.86363636,  7.86363636],\n",
       "        [ 7.86363636,  7.86363636,  7.86363636, ...,  7.86363636,\n",
       "          7.86363636,  7.86363636]],\n",
       "\n",
       "       [[ 7.9       ,  7.9       ,  7.9       , ...,  7.9       ,\n",
       "          7.9       ,  7.9       ],\n",
       "        [ 7.9       ,  7.9       ,  7.9       , ...,  7.9       ,\n",
       "          7.9       ,  7.9       ],\n",
       "        [ 7.9       ,  7.9       ,  7.9       , ...,  7.9       ,\n",
       "          7.9       ,  7.9       ],\n",
       "        ..., \n",
       "        [ 7.9       ,  7.9       ,  7.9       , ...,  7.9       ,\n",
       "          7.9       ,  7.9       ],\n",
       "        [ 7.9       ,  7.9       ,  7.9       , ...,  7.9       ,\n",
       "          7.9       ,  7.9       ],\n",
       "        [ 7.9       ,  7.9       ,  7.9       , ...,  7.9       ,\n",
       "          7.9       ,  7.9       ]]])"
      ]
     },
     "execution_count": 12,
     "metadata": {},
     "output_type": "execute_result"
    }
   ],
   "source": [
    "x1[0]"
   ]
  },
  {
   "cell_type": "code",
   "execution_count": 14,
   "metadata": {
    "collapsed": false
   },
   "outputs": [
    {
     "ename": "ValueError",
     "evalue": "too many values to unpack",
     "output_type": "error",
     "traceback": [
      "\u001b[0;31m---------------------------------------------------------------------------\u001b[0m",
      "\u001b[0;31mValueError\u001b[0m                                Traceback (most recent call last)",
      "\u001b[0;32m<ipython-input-14-af37d7c09053>\u001b[0m in \u001b[0;36m<module>\u001b[0;34m()\u001b[0m\n\u001b[1;32m      1\u001b[0m \u001b[1;31m#plt.cm.ocean 就会映射到另一种不同的颜色\u001b[0m\u001b[1;33m\u001b[0m\u001b[1;33m\u001b[0m\u001b[0m\n\u001b[0;32m----> 2\u001b[0;31m \u001b[0mplt\u001b[0m\u001b[1;33m.\u001b[0m\u001b[0mpcolormesh\u001b[0m\u001b[1;33m(\u001b[0m\u001b[0mx1\u001b[0m\u001b[1;33m[\u001b[0m\u001b[1;36m0\u001b[0m\u001b[1;33m]\u001b[0m\u001b[1;33m,\u001b[0m\u001b[0mx2\u001b[0m\u001b[1;33m[\u001b[0m\u001b[1;36m0\u001b[0m\u001b[1;33m]\u001b[0m\u001b[1;33m,\u001b[0m \u001b[0my_hat\u001b[0m\u001b[1;33m,\u001b[0m\u001b[0mcmap\u001b[0m\u001b[1;33m=\u001b[0m\u001b[0mplt\u001b[0m\u001b[1;33m.\u001b[0m\u001b[0mcm\u001b[0m\u001b[1;33m.\u001b[0m\u001b[0mprism\u001b[0m\u001b[1;33m)\u001b[0m\u001b[1;33m\u001b[0m\u001b[0m\n\u001b[0m\u001b[1;32m      3\u001b[0m \u001b[0mplt\u001b[0m\u001b[1;33m.\u001b[0m\u001b[0mscatter\u001b[0m\u001b[1;33m(\u001b[0m\u001b[0mx\u001b[0m\u001b[1;33m[\u001b[0m\u001b[1;33m:\u001b[0m\u001b[1;33m,\u001b[0m\u001b[1;36m0\u001b[0m\u001b[1;33m]\u001b[0m\u001b[1;33m,\u001b[0m\u001b[0mx\u001b[0m\u001b[1;33m[\u001b[0m\u001b[1;33m:\u001b[0m\u001b[1;33m,\u001b[0m\u001b[1;36m1\u001b[0m\u001b[1;33m]\u001b[0m\u001b[1;33m,\u001b[0m\u001b[0mc\u001b[0m\u001b[1;33m=\u001b[0m\u001b[0my\u001b[0m\u001b[1;33m,\u001b[0m\u001b[0medgecolors\u001b[0m\u001b[1;33m=\u001b[0m\u001b[1;34m'k'\u001b[0m\u001b[1;33m,\u001b[0m\u001b[0mcmap\u001b[0m\u001b[1;33m=\u001b[0m\u001b[0mplt\u001b[0m\u001b[1;33m.\u001b[0m\u001b[0mcm\u001b[0m\u001b[1;33m.\u001b[0m\u001b[0mprism\u001b[0m\u001b[1;33m)\u001b[0m\u001b[1;33m\u001b[0m\u001b[0m\n\u001b[1;32m      4\u001b[0m \u001b[0mplt\u001b[0m\u001b[1;33m.\u001b[0m\u001b[0mxlabel\u001b[0m\u001b[1;33m(\u001b[0m\u001b[1;34m'Sepal length'\u001b[0m\u001b[1;33m)\u001b[0m\u001b[1;33m\u001b[0m\u001b[0m\n\u001b[1;32m      5\u001b[0m \u001b[0mplt\u001b[0m\u001b[1;33m.\u001b[0m\u001b[0mylabel\u001b[0m\u001b[1;33m(\u001b[0m\u001b[1;34m'Sepal width'\u001b[0m\u001b[1;33m)\u001b[0m\u001b[1;33m\u001b[0m\u001b[0m\n",
      "\u001b[0;32mD:\\Program Files\\Anaconda2\\lib\\site-packages\\matplotlib\\pyplot.pyc\u001b[0m in \u001b[0;36mpcolormesh\u001b[0;34m(*args, **kwargs)\u001b[0m\n\u001b[1;32m   3098\u001b[0m         \u001b[0max\u001b[0m\u001b[1;33m.\u001b[0m\u001b[0mhold\u001b[0m\u001b[1;33m(\u001b[0m\u001b[0mhold\u001b[0m\u001b[1;33m)\u001b[0m\u001b[1;33m\u001b[0m\u001b[0m\n\u001b[1;32m   3099\u001b[0m     \u001b[1;32mtry\u001b[0m\u001b[1;33m:\u001b[0m\u001b[1;33m\u001b[0m\u001b[0m\n\u001b[0;32m-> 3100\u001b[0;31m         \u001b[0mret\u001b[0m \u001b[1;33m=\u001b[0m \u001b[0max\u001b[0m\u001b[1;33m.\u001b[0m\u001b[0mpcolormesh\u001b[0m\u001b[1;33m(\u001b[0m\u001b[1;33m*\u001b[0m\u001b[0margs\u001b[0m\u001b[1;33m,\u001b[0m \u001b[1;33m**\u001b[0m\u001b[0mkwargs\u001b[0m\u001b[1;33m)\u001b[0m\u001b[1;33m\u001b[0m\u001b[0m\n\u001b[0m\u001b[1;32m   3101\u001b[0m     \u001b[1;32mfinally\u001b[0m\u001b[1;33m:\u001b[0m\u001b[1;33m\u001b[0m\u001b[0m\n\u001b[1;32m   3102\u001b[0m         \u001b[0max\u001b[0m\u001b[1;33m.\u001b[0m\u001b[0mhold\u001b[0m\u001b[1;33m(\u001b[0m\u001b[0mwashold\u001b[0m\u001b[1;33m)\u001b[0m\u001b[1;33m\u001b[0m\u001b[0m\n",
      "\u001b[0;32mD:\\Program Files\\Anaconda2\\lib\\site-packages\\matplotlib\\__init__.pyc\u001b[0m in \u001b[0;36minner\u001b[0;34m(ax, *args, **kwargs)\u001b[0m\n\u001b[1;32m   1816\u001b[0m                     warnings.warn(msg % (label_namer, func.__name__),\n\u001b[1;32m   1817\u001b[0m                                   RuntimeWarning, stacklevel=2)\n\u001b[0;32m-> 1818\u001b[0;31m             \u001b[1;32mreturn\u001b[0m \u001b[0mfunc\u001b[0m\u001b[1;33m(\u001b[0m\u001b[0max\u001b[0m\u001b[1;33m,\u001b[0m \u001b[1;33m*\u001b[0m\u001b[0margs\u001b[0m\u001b[1;33m,\u001b[0m \u001b[1;33m**\u001b[0m\u001b[0mkwargs\u001b[0m\u001b[1;33m)\u001b[0m\u001b[1;33m\u001b[0m\u001b[0m\n\u001b[0m\u001b[1;32m   1819\u001b[0m         \u001b[0mpre_doc\u001b[0m \u001b[1;33m=\u001b[0m \u001b[0minner\u001b[0m\u001b[1;33m.\u001b[0m\u001b[0m__doc__\u001b[0m\u001b[1;33m\u001b[0m\u001b[0m\n\u001b[1;32m   1820\u001b[0m         \u001b[1;32mif\u001b[0m \u001b[0mpre_doc\u001b[0m \u001b[1;32mis\u001b[0m \u001b[0mNone\u001b[0m\u001b[1;33m:\u001b[0m\u001b[1;33m\u001b[0m\u001b[0m\n",
      "\u001b[0;32mD:\\Program Files\\Anaconda2\\lib\\site-packages\\matplotlib\\axes\\_axes.pyc\u001b[0m in \u001b[0;36mpcolormesh\u001b[0;34m(self, *args, **kwargs)\u001b[0m\n\u001b[1;32m   5368\u001b[0m         \u001b[0mallmatch\u001b[0m \u001b[1;33m=\u001b[0m \u001b[1;33m(\u001b[0m\u001b[0mshading\u001b[0m \u001b[1;33m==\u001b[0m \u001b[1;34m'gouraud'\u001b[0m\u001b[1;33m)\u001b[0m\u001b[1;33m\u001b[0m\u001b[0m\n\u001b[1;32m   5369\u001b[0m \u001b[1;33m\u001b[0m\u001b[0m\n\u001b[0;32m-> 5370\u001b[0;31m         \u001b[0mX\u001b[0m\u001b[1;33m,\u001b[0m \u001b[0mY\u001b[0m\u001b[1;33m,\u001b[0m \u001b[0mC\u001b[0m \u001b[1;33m=\u001b[0m \u001b[0mself\u001b[0m\u001b[1;33m.\u001b[0m\u001b[0m_pcolorargs\u001b[0m\u001b[1;33m(\u001b[0m\u001b[1;34m'pcolormesh'\u001b[0m\u001b[1;33m,\u001b[0m \u001b[1;33m*\u001b[0m\u001b[0margs\u001b[0m\u001b[1;33m,\u001b[0m \u001b[0mallmatch\u001b[0m\u001b[1;33m=\u001b[0m\u001b[0mallmatch\u001b[0m\u001b[1;33m)\u001b[0m\u001b[1;33m\u001b[0m\u001b[0m\n\u001b[0m\u001b[1;32m   5371\u001b[0m         \u001b[0mNy\u001b[0m\u001b[1;33m,\u001b[0m \u001b[0mNx\u001b[0m \u001b[1;33m=\u001b[0m \u001b[0mX\u001b[0m\u001b[1;33m.\u001b[0m\u001b[0mshape\u001b[0m\u001b[1;33m\u001b[0m\u001b[0m\n\u001b[1;32m   5372\u001b[0m \u001b[1;33m\u001b[0m\u001b[0m\n",
      "\u001b[0;32mD:\\Program Files\\Anaconda2\\lib\\site-packages\\matplotlib\\axes\\_axes.pyc\u001b[0m in \u001b[0;36m_pcolorargs\u001b[0;34m(funcname, *args, **kw)\u001b[0m\n\u001b[1;32m   4968\u001b[0m         \u001b[1;32mif\u001b[0m \u001b[0mlen\u001b[0m\u001b[1;33m(\u001b[0m\u001b[0margs\u001b[0m\u001b[1;33m)\u001b[0m \u001b[1;33m==\u001b[0m \u001b[1;36m3\u001b[0m\u001b[1;33m:\u001b[0m\u001b[1;33m\u001b[0m\u001b[0m\n\u001b[1;32m   4969\u001b[0m             \u001b[0mX\u001b[0m\u001b[1;33m,\u001b[0m \u001b[0mY\u001b[0m\u001b[1;33m,\u001b[0m \u001b[0mC\u001b[0m \u001b[1;33m=\u001b[0m \u001b[1;33m[\u001b[0m\u001b[0mnp\u001b[0m\u001b[1;33m.\u001b[0m\u001b[0masanyarray\u001b[0m\u001b[1;33m(\u001b[0m\u001b[0ma\u001b[0m\u001b[1;33m)\u001b[0m \u001b[1;32mfor\u001b[0m \u001b[0ma\u001b[0m \u001b[1;32min\u001b[0m \u001b[0margs\u001b[0m\u001b[1;33m]\u001b[0m\u001b[1;33m\u001b[0m\u001b[0m\n\u001b[0;32m-> 4970\u001b[0;31m             \u001b[0mnumRows\u001b[0m\u001b[1;33m,\u001b[0m \u001b[0mnumCols\u001b[0m \u001b[1;33m=\u001b[0m \u001b[0mC\u001b[0m\u001b[1;33m.\u001b[0m\u001b[0mshape\u001b[0m\u001b[1;33m\u001b[0m\u001b[0m\n\u001b[0m\u001b[1;32m   4971\u001b[0m         \u001b[1;32melse\u001b[0m\u001b[1;33m:\u001b[0m\u001b[1;33m\u001b[0m\u001b[0m\n\u001b[1;32m   4972\u001b[0m             raise TypeError(\n",
      "\u001b[0;31mValueError\u001b[0m: too many values to unpack"
     ]
    }
   ],
   "source": [
    "#plt.cm.ocean 就会映射到另一种不同的颜色\n",
    "plt.pcolormesh(x1[0],x2[0], y_hat,cmap=plt.cm.prism)\n",
    "plt.scatter(x[:,0],x[:,1],c=y,edgecolors='k',cmap=plt.cm.prism) \n",
    "plt.xlabel('Sepal length')\n",
    "plt.ylabel('Sepal width')\n",
    "plt.xlim(x1_min,x1_max)\n",
    "plt.ylim(x2_min,x2_max)\n",
    "plt.grid()\n",
    "plt.show()"
   ]
  }
 ],
 "metadata": {
  "anaconda-cloud": {},
  "kernelspec": {
   "display_name": "Python [default]",
   "language": "python",
   "name": "python2"
  },
  "language_info": {
   "codemirror_mode": {
    "name": "ipython",
    "version": 2
   },
   "file_extension": ".py",
   "mimetype": "text/x-python",
   "name": "python",
   "nbconvert_exporter": "python",
   "pygments_lexer": "ipython2",
   "version": "2.7.12"
  }
 },
 "nbformat": 4,
 "nbformat_minor": 1
}
